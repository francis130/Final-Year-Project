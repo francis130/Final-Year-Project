{
  "nbformat": 4,
  "nbformat_minor": 0,
  "metadata": {
    "colab": {
      "name": "Assignment.ipynb",
      "provenance": [],
      "authorship_tag": "ABX9TyNhAzzih840py5z0B57Wtws",
      "include_colab_link": true
    },
    "kernelspec": {
      "name": "python3",
      "display_name": "Python 3"
    },
    "language_info": {
      "name": "python"
    }
  },
  "cells": [
    {
      "cell_type": "markdown",
      "metadata": {
        "id": "view-in-github",
        "colab_type": "text"
      },
      "source": [
        "<a href=\"https://colab.research.google.com/github/francis130/Final-Year-Project/blob/main/Assignment.ipynb\" target=\"_parent\"><img src=\"https://colab.research.google.com/assets/colab-badge.svg\" alt=\"Open In Colab\"/></a>"
      ]
    },
    {
      "cell_type": "code",
      "execution_count": null,
      "metadata": {
        "id": "Za7_N8UWpPgQ"
      },
      "outputs": [],
      "source": [
        "def interestCaculator():\n",
        "  internship_balance = float(input(\"enter your Salary:\"))\n",
        "  interest = (13/100) * float(internship_balance)               #since we are dealing with decimals we float the balance so that both terms will have the same format therefor computing the interest\n",
        "  print(interest)\n",
        "  total_balance= interest + internship_balance                   #this line sums up the interest and the the balance\n",
        "  print( total_balance  )\n",
        "\n",
        "\n",
        "def gradeCalculator():\n",
        "  grade = float(input(\"enter your grade:\"))                      #this is where the user has to enter their grades \n",
        "if grade >= 86 <= 100:\n",
        "    print(\"A+\")\n",
        "elif grade >= 76 <=85:\n",
        "    print(\"A\")\n",
        "elif grade >= 66 <=75:\n",
        "    print(\"B+\")\n",
        "elif grade >= 60 <=65:\n",
        "    print(\"B\")\n",
        "elif grade >= 55 <=59:\n",
        "    print(\"C+\")\n",
        "elif grade >=50 <=54:\n",
        "    print(\"C\")\n",
        "elif grade >=45 <=49:\n",
        "    print(\"D+\")\n",
        "elif grade >=40 <=44:\n",
        "    print(\"D\")\n",
        "else:\n",
        "    print(\"you have failed!\")\n",
        "\n",
        "\n",
        "\n",
        "interestCaculator()\n",
        "gradeCalculator()"
      ]
    }
  ]
}